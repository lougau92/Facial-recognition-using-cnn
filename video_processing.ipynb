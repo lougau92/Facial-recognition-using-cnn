{
 "cells": [
  {
   "cell_type": "code",
   "execution_count": 24,
   "metadata": {},
   "outputs": [],
   "source": [
    "import cv2\n",
    "\n",
    "emotions = ['anger','distgust','fear','happi','neutral','sadness','surprise']\n"
   ]
  },
  {
   "cell_type": "code",
   "execution_count": 23,
   "metadata": {},
   "outputs": [],
   "source": [
    "\n",
    "\n",
    "# code for downsampling the number of frames in a video\n",
    "for e in emotions:\n",
    "  path = 'C:/Users/louis/OneDrive/Documents/emotions/'+e+'.mp4'\n",
    "  cap = cv2.VideoCapture(path)\n",
    "  \n",
    "  width = int(cap.get(3))\n",
    "  height = int(cap.get(4))\n",
    "\n",
    "  out = cv2.VideoWriter(str(e+'.avi'),cv2.VideoWriter_fourcc('M','J','P','G'), 10, (width,height))\n",
    "\n",
    "  count = 0\n",
    "  \n",
    "  while cap.isOpened():\n",
    "    success,image = cap.read()\n",
    "    if not success: break\n",
    "    if count%5 ==0 : out.write(image)\n",
    "    count += 1\n",
    "    \n",
    "cap.release()\n",
    "out.release()\n"
   ]
  },
  {
   "cell_type": "code",
   "execution_count": 19,
   "metadata": {},
   "outputs": [],
   "source": [
    "for e in emotions:\n",
    "    path = 'C:/Users/louis/OneDrive/Documents/emotions/'+e+'.avi'\n",
    "    cap = cv2.VideoCapture(path)\n",
    "    count = 0\n",
    "    while cap.isOpened():\n",
    "        success,image = cap.read()\n",
    "        if not success: break\n",
    "        img_gray = cv2.cvtColor(image, cv2.COLOR_RGB2GRAY)\n",
    "        img = cv2.resize(img_gray,(48,48))\n",
    "        img = np.expand_dims(img,axis =0)\n"
   ]
  },
  {
   "cell_type": "code",
   "execution_count": null,
   "metadata": {},
   "outputs": [],
   "source": []
  }
 ],
 "metadata": {
  "interpreter": {
   "hash": "cee2a8bf78ed58fe7d4a6da4c01dc73c50fe79a52336feed85a35ce76368bd76"
  },
  "kernelspec": {
   "display_name": "Python 3.8.3 ('base')",
   "language": "python",
   "name": "python3"
  },
  "language_info": {
   "codemirror_mode": {
    "name": "ipython",
    "version": 3
   },
   "file_extension": ".py",
   "mimetype": "text/x-python",
   "name": "python",
   "nbconvert_exporter": "python",
   "pygments_lexer": "ipython3",
   "version": "3.8.3"
  },
  "orig_nbformat": 4
 },
 "nbformat": 4,
 "nbformat_minor": 2
}
